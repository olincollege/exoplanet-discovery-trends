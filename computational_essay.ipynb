{
 "cells": [
  {
   "cell_type": "markdown",
   "metadata": {},
   "source": [
    "# Exoplanet Discovery Trends\n",
    "## Background\n",
    "- What are exoplanets?\n",
    "- Why do we look for them?\n",
    "- Discuss different discovery methods\n",
    "    - Maybe include visuals to help people understand better\n",
    "## Introduction\n",
    "- Introduce our question\n",
    "- Why is our question cool or important?\n",
    "- Say what dataset we used\n",
    "- What specific parts of that data did we look at?"
   ]
  },
  {
   "cell_type": "markdown",
   "metadata": {},
   "source": [
    "## Methodology\n",
    "### Distance v. Period Plot\n",
    "- Why did we look at this?\n",
    "- What did we expect to see?"
   ]
  },
  {
   "cell_type": "code",
   "execution_count": null,
   "metadata": {},
   "outputs": [],
   "source": [
    "# Distance v. Period plot here"
   ]
  },
  {
   "cell_type": "markdown",
   "metadata": {},
   "source": [
    "- Discuss plot results vs our expectations\n",
    "- Explain why we think the results are what they are\n",
    "### Discovery Year v. Distance\n",
    "- Why did we look at this?\n",
    "- What did we expect to see?"
   ]
  },
  {
   "cell_type": "code",
   "execution_count": null,
   "metadata": {},
   "outputs": [],
   "source": [
    "# Discovery Year v. Distance plot here"
   ]
  },
  {
   "cell_type": "markdown",
   "metadata": {},
   "source": [
    "- Discuss plot results vs our expectations\n",
    "- Explain why we think the results are what they are\n",
    "### Discovery Method v. Average Distance (tentative)\n",
    "- Why did we look at this?\n",
    "- What did we expect to see?"
   ]
  },
  {
   "cell_type": "code",
   "execution_count": null,
   "metadata": {},
   "outputs": [],
   "source": [
    "# Third plot here"
   ]
  },
  {
   "cell_type": "markdown",
   "metadata": {},
   "source": [
    "## Conclusion\n",
    "- Summarize our results.\n",
    "- Why are the results cool/interesting or important?\n",
    "- Conclude"
   ]
  }
 ],
 "metadata": {
  "kernelspec": {
   "display_name": "base",
   "language": "python",
   "name": "python3"
  },
  "language_info": {
   "name": "python",
   "version": "3.11.5"
  }
 },
 "nbformat": 4,
 "nbformat_minor": 2
}
