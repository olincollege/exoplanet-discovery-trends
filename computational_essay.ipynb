{
 "cells": [
  {
   "cell_type": "markdown",
   "metadata": {},
   "source": [
    "# Exoplanet Discovery Trends\n",
    "## Background\n",
    "- What are exoplanets?\n",
    "- Why do we look for them?\n",
    "- Discuss different discovery methods\n",
    "    - Maybe include visuals to help people understand better\n",
    "## Introduction\n",
    "- Introduce our question\n",
    "- Why is our question cool or important?\n",
    "- Say what dataset we used\n",
    "- What specific parts of that data did we look at?"
   ]
  },
  {
   "cell_type": "markdown",
   "metadata": {},
   "source": [
    "## Methodology\n",
    "### Distance v. Period Plot\n",
    "- Why did we look at this? \n",
    "- What did we expect to see?\n",
    "\n",
    "One way exoplanets are discovered is by observing stars. As a planet passes in front of a star, the star's brightness dims. Since a planet's orbital period stays constant, if a star dims at regular intervals, there's a possibility that the cause of the dimming is an exoplanet. "
   ]
  },
  {
   "cell_type": "code",
   "execution_count": 1,
   "metadata": {},
   "outputs": [],
   "source": [
    "# Discovery Year v. Period plot here"
   ]
  },
  {
   "cell_type": "markdown",
   "metadata": {},
   "source": [
    "- Discuss plot results vs our expectations\n",
    "- Explain why we think the results are what they are\n",
    "### Discovery Year v. Distance\n",
    "- Why did we look at this?\n",
    "- What did we expect to see?"
   ]
  },
  {
   "cell_type": "code",
   "execution_count": null,
   "metadata": {},
   "outputs": [],
   "source": [
    "# Discovery Year v. Distance plot here"
   ]
  },
  {
   "cell_type": "markdown",
   "metadata": {},
   "source": [
    "- Discuss plot results vs our expectations\n",
    "- Explain why we think the results are what they are\n",
    "### Discovery Method v. Average Distance (tentative)\n",
    "- Why did we look at this?\n",
    "- What did we expect to see?"
   ]
  },
  {
   "cell_type": "code",
   "execution_count": null,
   "metadata": {},
   "outputs": [],
   "source": [
    "# Third plot here"
   ]
  },
  {
   "cell_type": "markdown",
   "metadata": {},
   "source": [
    "## Conclusion\n",
    "- Summarize our results.\n",
    "- Why are the results cool/interesting or important?\n",
    "- Conclude"
   ]
  }
 ],
 "metadata": {
  "kernelspec": {
   "display_name": "base",
   "language": "python",
   "name": "python3"
  },
  "language_info": {
   "codemirror_mode": {
    "name": "ipython",
    "version": 3
   },
   "file_extension": ".py",
   "mimetype": "text/x-python",
   "name": "python",
   "nbconvert_exporter": "python",
   "pygments_lexer": "ipython3",
   "version": "3.11.5"
  }
 },
 "nbformat": 4,
 "nbformat_minor": 2
}
